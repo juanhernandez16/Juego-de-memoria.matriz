{
  "nbformat": 4,
  "nbformat_minor": 0,
  "metadata": {
    "colab": {
      "provenance": [],
      "authorship_tag": "ABX9TyPr2le+rxCsJ6U0DHMRAajO",
      "include_colab_link": true
    },
    "kernelspec": {
      "name": "python3",
      "display_name": "Python 3"
    },
    "language_info": {
      "name": "python"
    }
  },
  "cells": [
    {
      "cell_type": "markdown",
      "metadata": {
        "id": "view-in-github",
        "colab_type": "text"
      },
      "source": [
        "<a href=\"https://colab.research.google.com/github/juanhernandez16/Juego-de-memoria.matriz/blob/main/Juego_de_memoria.ipynb\" target=\"_parent\"><img src=\"https://colab.research.google.com/assets/colab-badge.svg\" alt=\"Open In Colab\"/></a>"
      ]
    },
    {
      "cell_type": "code",
      "source": [
        "import random\n",
        "import string\n",
        "import time\n",
        "from IPython.display import clear_output\n",
        "\n",
        "def generate_random_matrix(n):\n",
        "    options = list(string.ascii_letters + string.digits + \"@#$\") * (n * n // 4)\n",
        "    random.shuffle(options)\n",
        "    return [[random.choice(options) for _ in range(n)] for _ in range(n)]\n",
        "\n",
        "def show_matrix(matrix):\n",
        "    print(\"\\n\".join(\" \".join(row) for row in matrix))\n",
        "\n",
        "def hide_value(matrix, value):\n",
        "    for row in matrix:\n",
        "        if value in row:\n",
        "            row[row.index(value)] = \" \"\n",
        "            break\n",
        "\n",
        "def reveal_valor(matrix, value):\n",
        "    for row in matrix:\n",
        "        if \"*\" in row:\n",
        "            row[row.index(\" \")] = value\n",
        "\n",
        "def limit_time(n):\n",
        "    return max(3, 3 + 0.5 * (n - 3))\n",
        "print(\"Bienvenido a Prueba tu memoria\")\n",
        "def play_game():\n",
        "    n = int(input(\"Ingrese el tamaño de la cuadricula :\"))\n",
        "    matrix = generate_random_matrix(n)\n",
        "    print(\"Memoriza los valores\")\n",
        "\n",
        "    show_matrix(matrix)\n",
        "    t= limit_time(n)\n",
        "    time.sleep(t)\n",
        "    clear_output(wait=True)\n",
        "    valor_oculto = random.choice(matrix[0])\n",
        "    hide_value(matrix, valor_oculto)\n",
        "\n",
        "    print(\"Encuentra el valor oculto\")\n",
        "    show_matrix(matrix)\n",
        "    adivina_valor = input(\"ingrese el valor que falta :\")\n",
        "    reveal_valor(matrix, valor_oculto)\n",
        "    print(\"¡Correcto! Has encontrado el valor oculto.\" if adivina_valor == valor_oculto else f\"Incorrecto. El valor era {valor_oculto}.\")\n",
        "\n",
        "def main():\n",
        "    while True:\n",
        "        play_game()\n",
        "        if input(\"¿quieres volver a jugar? (s/n): \").lower() != \"s\":\n",
        "            break\n",
        "\n",
        "if __name__ == \"__main__\":\n",
        "    main()"
      ],
      "metadata": {
        "colab": {
          "base_uri": "https://localhost:8080/"
        },
        "id": "oQVVUVtWHcHx",
        "outputId": "b127a3af-0faf-4c09-c02d-96fadbbb7005"
      },
      "execution_count": 23,
      "outputs": [
        {
          "name": "stdout",
          "output_type": "stream",
          "text": [
            "Encuentra el valor oculto\n",
            "  e m u 2\n",
            "K i h J N\n",
            "x H @ t y\n",
            "D N 1 O Y\n",
            "z s z O F\n",
            "ingrese el valor que falta12\n",
            "Incorrecto. El valor era b.\n",
            "¿quieres volver a jugar? (s/n): n\n"
          ]
        }
      ]
    }
  ]
}